{
  "nbformat": 4,
  "nbformat_minor": 0,
  "metadata": {
    "colab": {
      "provenance": [],
      "authorship_tag": "ABX9TyNRWPAGWLdjIogdKOR+pYqm",
      "include_colab_link": true
    },
    "kernelspec": {
      "name": "python3",
      "display_name": "Python 3"
    },
    "language_info": {
      "name": "python"
    }
  },
  "cells": [
    {
      "cell_type": "markdown",
      "metadata": {
        "id": "view-in-github",
        "colab_type": "text"
      },
      "source": [
        "<a href=\"https://colab.research.google.com/github/allineBrito/Diversos/blob/main/calculadora.ipynb\" target=\"_parent\"><img src=\"https://colab.research.google.com/assets/colab-badge.svg\" alt=\"Open In Colab\"/></a>"
      ]
    },
    {
      "cell_type": "code",
      "source": [
        "#adiciona os paremetros, compara dois parâmetros e retorna o resultad\n",
        "def add(x, y):\n",
        "    return x + y\n",
        "\n",
        "def subtract(x, y):\n",
        "    return x - y\n",
        "\n",
        "def multiply(x, y):\n",
        "    return x * y\n",
        "\n",
        "def divide(x, y):\n",
        "    if y != 0:\n",
        "        return x / y\n",
        "    else:\n",
        "        return \"Erro: Divisão por zero não é permitida!\"\n",
        "\n",
        "#nomear os paremetros\n",
        "print(\"Selecione a operação:\")\n",
        "print(\"1. Soma\")\n",
        "print(\"2. Subtração\")\n",
        "print(\"3. Multiplicação\")\n",
        "print(\"4. Divisão\")"
      ],
      "metadata": {
        "colab": {
          "base_uri": "https://localhost:8080/"
        },
        "id": "F40eJGZdV65P",
        "outputId": "a48d134b-e921-4a91-9717-cb48b2c5d4fd"
      },
      "execution_count": 4,
      "outputs": [
        {
          "output_type": "stream",
          "name": "stdout",
          "text": [
            "Selecione a operação:\n",
            "1. Soma\n",
            "2. Subtração\n",
            "3. Multiplicação\n",
            "4. Divisão\n"
          ]
        }
      ]
    },
    {
      "cell_type": "code",
      "source": [
        "opcao = input(\"Digite o número da OPERAÇÃO desejada: \")\n",
        "\n",
        "num1 = float(input(\"Digite um número: \"))\n",
        "num2 = float(input(\"Digite outro número: \"))\n",
        "if opcao == '1':\n",
        "    resultado = add(num1, num2)\n",
        "    print(f\"A soma de {num1} e {num2} é igual a {resultado}\")\n",
        "elif opcao == '2':\n",
        "    resultado = subtract(num1, num2)\n",
        "    print(f\"A subtração de {num1} por {num2} é igual a {resultado}\")\n",
        "elif opcao == '3':\n",
        "    resultado = multiply(num1, num2)\n",
        "    print(f\"A multiplicação de {num1} por {num2} é igual a {resultado}\")\n",
        "elif opcao == '4':\n",
        "    resultado = divide(num1, num2)\n",
        "    print(f\"A divisão de {num1} por {num2} é igual a {resultado}\")\n",
        "else:\n",
        "    print(\"Opção inválida. Por favor, escolha uma opção válida.\")\n"
      ],
      "metadata": {
        "colab": {
          "base_uri": "https://localhost:8080/"
        },
        "id": "tJv4sy4KV5i3",
        "outputId": "b6d4ef29-344f-41f0-9183-1ebba626ea0a"
      },
      "execution_count": 8,
      "outputs": [
        {
          "output_type": "stream",
          "name": "stdout",
          "text": [
            "Digite o número da operação desejada: 1\n",
            "Digite um número: 1\n",
            "Digite outro número: 2\n",
            "A soma de 1.0 e 2.0 é igual a 3.0\n"
          ]
        }
      ]
    },
    {
      "cell_type": "code",
      "source": [
        "#adivinhar o número\n",
        "def guess_next_number(sequence):\n",
        "    if len(sequence) >= 3:\n",
        "        a, b, c = sequence[-3:]\n",
        "        next_number = add(add(b, b-a), c)\n",
        "        return next_number\n",
        "    else:\n",
        "        return \"A sequência deve ter pelo menos 3 números para adivinhar o próximo número.\"\n",
        "\n",
        "print(\"Selecione a operação:\")\n",
        "print(\"1. Soma\")\n",
        "print(\"2. Subtração\")\n",
        "print(\"3. Multiplicação\")\n",
        "print(\"4. Divisão\")\n",
        "print(\"5. Adivinhar o próximo número\")"
      ],
      "metadata": {
        "id": "0YMfaPjWXIqD"
      },
      "execution_count": null,
      "outputs": []
    },
    {
      "cell_type": "code",
      "source": [
        "opcao = input(\"Digite o número da operação desejada: \")\n",
        "if opcao in ['1', '2', '3', '4']:\n",
        "    num1 = float(input(\"Digite o primeiro número: \"))\n",
        "    num2 = float(input(\"Digite o segundo número: \"))\n",
        "\n",
        "if opcao == '1':\n",
        "    resultado = add(num1, num2)\n",
        "    print(f\"A soma de {num1} e {num2} é igual a {resultado}\")\n",
        "elif opcao == '2':\n",
        "    resultado = subtract(num1, num2)\n",
        "    print(f\"A subtração de {num1} por {num2} é igual a {resultado}\")\n",
        "elif opcao == '3':\n",
        "    resultado = multiply(num1, num2)\n",
        "    print(f\"A multiplicação de {num1} por {num2} é igual a {resultado}\")\n",
        "elif opcao == '4':\n",
        "    resultado = divide(num1, num2)\n",
        "    print(f\"A divisão de {num1} por {num2} é igual a {resultado}\")\n",
        "elif opcao == '5':\n",
        "    sequence = []\n",
        "    n = int(input(\"Digite o número de elementos na sequência: \"))\n",
        "    for i in range(n):\n",
        "        number = float(input(f\"Digite o {i+1}º número: \"))\n",
        "        sequence.append(number)\n",
        "    next_number = guess_next_number(sequence)\n",
        "    print(f\"O próximo número na sequência é {next_number}\")\n",
        "else:\n",
        "    print(\"Opção inválida. Por favor, escolha uma opção válida.\")"
      ],
      "metadata": {
        "colab": {
          "base_uri": "https://localhost:8080/"
        },
        "id": "rhZ9z8WtX23q",
        "outputId": "cbdb2bd9-aa7d-4712-e177-549cfbaebc54"
      },
      "execution_count": 12,
      "outputs": [
        {
          "output_type": "stream",
          "name": "stdout",
          "text": [
            "Digite o número da operação desejada: 5\n",
            "Digite o número de elementos na sequência: 4\n",
            "Digite o 1º número: 1\n",
            "Digite o 2º número: 3\n",
            "Digite o 3º número: 2\n",
            "Digite o 4º número: 6\n",
            "O próximo número na sequência é 7.0\n"
          ]
        }
      ]
    }
  ]
}