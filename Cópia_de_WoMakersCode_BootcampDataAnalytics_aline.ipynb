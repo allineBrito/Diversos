{
  "nbformat": 4,
  "nbformat_minor": 0,
  "metadata": {
    "colab": {
      "provenance": [],
      "include_colab_link": true
    },
    "kernelspec": {
      "name": "python3",
      "display_name": "Python 3"
    },
    "language_info": {
      "name": "python"
    }
  },
  "cells": [
    {
      "cell_type": "markdown",
      "metadata": {
        "id": "view-in-github",
        "colab_type": "text"
      },
      "source": [
        "<a href=\"https://colab.research.google.com/github/allineBrito/Diversos/blob/main/C%C3%B3pia_de_WoMakersCode_BootcampDataAnalytics_aline.ipynb\" target=\"_parent\"><img src=\"https://colab.research.google.com/assets/colab-badge.svg\" alt=\"Open In Colab\"/></a>"
      ]
    },
    {
      "cell_type": "markdown",
      "source": [
        "1 ) Para determinar se um candidato está qualificado para uma vaga de emprego, são aplicados dois critérios:\n",
        "\n",
        "a) O candidato deve ter uma presença igual ou superior a 60% em um treinamento obrigatório.\n",
        "\n",
        "b) O candidato deve ter uma média de desempenho igual ou superior a 7 em uma série de testes.\n",
        "\n",
        "Para auxiliar na avaliação dos candidatos, você deve criar uma função que recebe uma lista de dicionários contendo o nome do candidato, a média de desempenho e a quantidade de horas de ausência do treinamento. Com esses dados, a função deve calcular se o candidato está qualificado ou não. A presença do candidato é calculada considerando que o treinamento teve um total de 60 horas e utilizando a fórmula:\n",
        "\n",
        "(Total horas - número de faltas)/Total horas * 100;\n"
      ],
      "metadata": {
        "id": "3UpM724I5C19"
      }
    },
    {
      "cell_type": "code",
      "source": [
        "#Execute seu código aqui"
      ],
      "metadata": {
        "id": "Xv1MnjPQvkSt"
      },
      "execution_count": 1,
      "outputs": []
    },
    {
      "cell_type": "markdown",
      "source": [
        "2) Crie uma função que recebe uma palavra (string), separa todos os caracteres em uma lista, retorna esta lista e quantidade de letras."
      ],
      "metadata": {
        "id": "fKKdyWo55e8w"
      }
    },
    {
      "cell_type": "code",
      "source": [
        "                #Execute seu código aqui\n",
        "def separar_caracteres(palavra):\n",
        "  lista_caracteres = list(palavra)\n",
        "  return lista_caracteres, len(lista_caracteres)\n",
        "palavra = \"python\"\n",
        "lista_caracteres, quantidade_caracteres = separar_caracteres(palavra)\n",
        "\n",
        "print(lista_caracteres)\n",
        "print(quantidade_caracteres)"
      ],
      "metadata": {
        "id": "Qq7QoqubvjbG",
        "colab": {
          "base_uri": "https://localhost:8080/"
        },
        "outputId": "ae20d458-bc65-4356-bec6-1330cc8b0e75"
      },
      "execution_count": 15,
      "outputs": [
        {
          "output_type": "stream",
          "name": "stdout",
          "text": [
            "['p', 'y', 't', 'h', 'o', 'n']\n",
            "6\n"
          ]
        }
      ]
    },
    {
      "cell_type": "markdown",
      "source": [
        "3) Crie um programa que leia quanto dinheiro uma pessoa tem na carteira, e calcule quanto poderia comprar de cada moeda estrangeira. Considere a tabela de conversão abaixo:\n",
        "\n",
        "Valor convertido em real:\n",
        "*   Dólar Americano: 4,91\n",
        "*   Peso Argentino: 0,02\n",
        "*   Dólar Australiano: 3,18\n",
        "*   Dólar Canadense: 3,64\n",
        "*   Franco Suiço: 0,42\n",
        "*   Euro:  5,36\n",
        "*   Libra esterlina: 6,21\n",
        "\n",
        "\n",
        "\n",
        "\n",
        "\n",
        "\n",
        "\n"
      ],
      "metadata": {
        "id": "EEXxWdjH5sju"
      }
    },
    {
      "cell_type": "code",
      "source": [
        "taxas = {\n",
        "    \"dólar americano\": 4.91,\n",
        "    \"peso argentino\": 0.02,\n",
        "    \"dólar australiano\": 3.18,\n",
        "    \"dólar canadense\": 3.64,\n",
        "    \"franco suíço\": 0.42,\n",
        "    \"euro\": 5.36,\n",
        "    \"libra esterlina\": 6.21,\n",
        "}\n",
        "valor_reais = float(input(\"Quanto dinheiro tem na carteira? \"))\n",
        "for moeda in taxas:\n",
        "    quantidade_moeda = valor_reais / taxas[moeda]\n",
        "    print(f\"Pode-se comprar {quantidade_moeda:.2f} {moeda} com R$ {valor_reais:.2f}.\")"
      ],
      "metadata": {
        "id": "BFil1HpZvbFg",
        "colab": {
          "base_uri": "https://localhost:8080/"
        },
        "outputId": "5269bf57-de60-46a8-c505-5c3b1c861ab4"
      },
      "execution_count": 23,
      "outputs": [
        {
          "output_type": "stream",
          "name": "stdout",
          "text": [
            "Quanto dinheiro tem na carteira? 6\n",
            "Pode-se comprar 1.22 dólar americano com R$ 6.00.\n",
            "Pode-se comprar 300.00 peso argentino com R$ 6.00.\n",
            "Pode-se comprar 1.89 dólar australiano com R$ 6.00.\n",
            "Pode-se comprar 1.65 dólar canadense com R$ 6.00.\n",
            "Pode-se comprar 14.29 franco suíço com R$ 6.00.\n",
            "Pode-se comprar 1.12 euro com R$ 6.00.\n",
            "Pode-se comprar 0.97 libra esterlina com R$ 6.00.\n"
          ]
        }
      ]
    },
    {
      "cell_type": "markdown",
      "source": [
        "\n",
        "4) O chefe decidiu premiar os melhores funcionários de sua empresa com um brinde. Para isso ela vai entregar um brinde para todos os funcionários que tiverem uma performance superior a média da equipe.\n",
        "\n",
        "Elabore uma função que recebe uma lista de nome em formato de dict (dicionário) com nome do funcionário e a média do funcionário (Valor de 0 a 10). Esta função deve calcular a média da equipe, identificar quais funcionários tem média igual ou superior a média da equipe e retornar uma lista com o nome dos funcionários que possuem média igual ou superior a média da equipe. A ordem dos nomes da lista de retorno deve ser em ordem decrescente."
      ],
      "metadata": {
        "id": "Tj2Ds76-6FXs"
      }
    },
    {
      "cell_type": "code",
      "source": [
        "#Execute seu código aqui\n",
        "funcionarios = [\n",
        "  {\"nome\": \"Aline\", \"media\": 7.5},\n",
        "  {\"nome\": \"Jonatas\", \"media\": 6.4},\n",
        "  {\"nome\": \"José\", \"media\": 6.6},\n",
        "  {\"nome\": \"Luiz\", \"media\": 5.8},\n",
        "]\n",
        "def premiar_funcionarios(funcionarios):\n",
        "  media_equipe = sum([funcionario[\"media\"] for funcionario in funcionarios]) / len(funcionarios)\n",
        "  premiados = [\n",
        "      funcionario[\"nome\"] for funcionario in funcionarios if funcionario[\"media\"] >= media_equipe\n",
        "  ]\n",
        "  premiados.sort(reverse=True)\n",
        "  return premiados\n",
        "\n",
        "premiados = premiar_funcionarios(funcionarios)\n",
        "\n",
        "print(\"Funcionários com performance superior à média da equipe: %s Parabéns *-*\" % premiados)"
      ],
      "metadata": {
        "id": "poEG0mnOvgSO",
        "colab": {
          "base_uri": "https://localhost:8080/"
        },
        "outputId": "67424646-febe-4fb5-a0d4-718f6b1ea920"
      },
      "execution_count": 58,
      "outputs": [
        {
          "output_type": "stream",
          "name": "stdout",
          "text": [
            "Funcionários com performance superior à média da equipe: ['José', 'Aline'] Parabéns *-*\n"
          ]
        }
      ]
    },
    {
      "cell_type": "markdown",
      "source": [
        "5) Na variável países_ano, temos uma lista de listas, em que cada elemento é uma lista de dois elementos, em que o primeiro é o nome de um país e o segundo é o ano em que a nação foi fundada."
      ],
      "metadata": {
        "id": "pVSP5n1T_ZWQ"
      }
    },
    {
      "cell_type": "code",
      "source": [
        "lista_paises = [[\"Brasil\", \"1500\"],[\"Mexico\",\"1519\"], [\"Inglaterra\", \"927\"], [\"Espanha\",\"1978\"], [\"Escocia\", \"843\"]]"
      ],
      "metadata": {
        "id": "zRywrNff01he"
      },
      "execution_count": 16,
      "outputs": []
    },
    {
      "cell_type": "markdown",
      "source": [
        "Você deseja criar uma nova lista de listas a partir do exemplo (lista_paises), em que cada elemento é uma lista de dois elementos, sendo o primeiro o nome do país (como é na lista original) e o segundo é o número de anos desde a fundação do país (considere que o ano atual é 2023)."
      ],
      "metadata": {
        "id": "OpU-UWXC01Ca"
      }
    },
    {
      "cell_type": "code",
      "source": [
        "#Execute seu código aqui\n",
        "anos = [\n",
        "  [pais[0], 2023 - int(pais[1])]\n",
        "  for pais in lista_paises\n",
        "]\n",
        "print(anos)"
      ],
      "metadata": {
        "id": "xaEQxcMFvhVa",
        "colab": {
          "base_uri": "https://localhost:8080/"
        },
        "outputId": "9db758a3-b4da-4998-faca-1596f141e563"
      },
      "execution_count": 63,
      "outputs": [
        {
          "output_type": "stream",
          "name": "stdout",
          "text": [
            "[['Brasil', 523], ['Mexico', 504], ['Inglaterra', 1096], ['Espanha', 45], ['Escocia', 1180]]\n"
          ]
        }
      ]
    },
    {
      "cell_type": "markdown",
      "source": [
        "\n",
        "6) Um jogador de um jogo de vídeo game deseja subir de nível em seu personagem ao atingir 50 inimigos derrotados. Enquanto esse número não é alcançado, uma mensagem indicando quantos inimigos ainda faltam é exibida na tela.\n"
      ],
      "metadata": {
        "id": "_qb748YiCzh-"
      }
    },
    {
      "cell_type": "code",
      "source": [
        "def subir_de_nivel(total_inimigos_para_nivel, inimigos_derrotados=0):\n",
        "    while inimigos_derrotados < total_inimigos_para_nivel:\n",
        "        faltam = total_inimigos_para_nivel - inimigos_derrotados\n",
        "        print(f\"Faltam derrotar {faltam} inimigos para subir de nível.\")\n",
        "        # Simulando derrotar um inimigo\n",
        "        inimigos_derrotados += 1  # Você pode alterar esta linha conforme a lógica do seu jogo\n",
        "\n",
        "    print(\"Parabéns! Você subiu de nível!\")\n",
        "\n",
        "# Chame a função passando o número total de inimigos para subir de nível (50 no seu caso)\n",
        "subir_de_nivel(50)\n",
        "\n",
        "# Mantenha o código existente e adicione o seguinte:\n",
        "\n",
        "inimigos_derrotados = 0\n",
        "nivel = 0\n",
        "\n",
        "while inimigos_derrotados < 50:\n",
        "    print(f\"Faltam {50 - inimigos_derrotados} inimigos para você mudar de nível!\")\n",
        "    # Lógica do jogo para derrotar inimigos e atualizar a contagem de inimigos derrotados\n",
        "    # Atualize a variável inimigos_derrotados de acordo com a lógica do seu jogo\n",
        "    inimigos_derrotados += 1  # Simulando a derrota de um inimigo (substitua por sua lógica real)"
      ],
      "metadata": {
        "id": "wooL40fJi_gj"
      },
      "execution_count": null,
      "outputs": []
    }
  ]
}